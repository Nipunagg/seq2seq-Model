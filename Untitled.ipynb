{
 "cells": [
  {
   "cell_type": "code",
   "execution_count": 1,
   "metadata": {},
   "outputs": [],
   "source": [
    "import numpy as np\n",
    "import pandas as pd\n",
    "import matplotlib.pyplot as plt\n",
    "import seaborn as sns\n",
    "import tensorflow as tf\n",
    "from tensorflow.keras.preprocessing.sequence import pad_sequences\n",
    "from tensorflow.keras.preprocessing.text import one_hot\n",
    "from tensorflow.keras.layers import Dense,Embedding,LSTM\n"
   ]
  },
  {
   "cell_type": "code",
   "execution_count": 2,
   "metadata": {},
   "outputs": [
    {
     "data": {
      "text/html": [
       "<div>\n",
       "<style scoped>\n",
       "    .dataframe tbody tr th:only-of-type {\n",
       "        vertical-align: middle;\n",
       "    }\n",
       "\n",
       "    .dataframe tbody tr th {\n",
       "        vertical-align: top;\n",
       "    }\n",
       "\n",
       "    .dataframe thead th {\n",
       "        text-align: right;\n",
       "    }\n",
       "</style>\n",
       "<table border=\"1\" class=\"dataframe\">\n",
       "  <thead>\n",
       "    <tr style=\"text-align: right;\">\n",
       "      <th></th>\n",
       "      <th>english_sentence</th>\n",
       "      <th>hindi_sentence</th>\n",
       "    </tr>\n",
       "  </thead>\n",
       "  <tbody>\n",
       "    <tr>\n",
       "      <th>0</th>\n",
       "      <td>politicians do not have permission to do what ...</td>\n",
       "      <td>राजनीतिज्ञों के पास जो कार्य करना चाहिए, वह कर...</td>\n",
       "    </tr>\n",
       "    <tr>\n",
       "      <th>1</th>\n",
       "      <td>I'd like to tell you about one such child,</td>\n",
       "      <td>मई आपको ऐसे ही एक बच्चे के बारे में बताना चाहू...</td>\n",
       "    </tr>\n",
       "    <tr>\n",
       "      <th>2</th>\n",
       "      <td>This percentage is even greater than the perce...</td>\n",
       "      <td>यह प्रतिशत भारत में हिन्दुओं प्रतिशत से अधिक है।</td>\n",
       "    </tr>\n",
       "    <tr>\n",
       "      <th>3</th>\n",
       "      <td>what we really mean is that they're bad at not...</td>\n",
       "      <td>हम ये नहीं कहना चाहते कि वो ध्यान नहीं दे पाते</td>\n",
       "    </tr>\n",
       "    <tr>\n",
       "      <th>4</th>\n",
       "      <td>.The ending portion of these Vedas is called U...</td>\n",
       "      <td>इन्हीं वेदों का अंतिम भाग उपनिषद कहलाता है।</td>\n",
       "    </tr>\n",
       "  </tbody>\n",
       "</table>\n",
       "</div>"
      ],
      "text/plain": [
       "                                    english_sentence  \\\n",
       "0  politicians do not have permission to do what ...   \n",
       "1         I'd like to tell you about one such child,   \n",
       "2  This percentage is even greater than the perce...   \n",
       "3  what we really mean is that they're bad at not...   \n",
       "4  .The ending portion of these Vedas is called U...   \n",
       "\n",
       "                                      hindi_sentence  \n",
       "0  राजनीतिज्ञों के पास जो कार्य करना चाहिए, वह कर...  \n",
       "1  मई आपको ऐसे ही एक बच्चे के बारे में बताना चाहू...  \n",
       "2   यह प्रतिशत भारत में हिन्दुओं प्रतिशत से अधिक है।  \n",
       "3     हम ये नहीं कहना चाहते कि वो ध्यान नहीं दे पाते  \n",
       "4        इन्हीं वेदों का अंतिम भाग उपनिषद कहलाता है।  "
      ]
     },
     "execution_count": 2,
     "metadata": {},
     "output_type": "execute_result"
    }
   ],
   "source": [
    "df=pd.read_csv('trans.csv')\n",
    "df.drop('source',inplace=True,axis=1)\n",
    "df.dropna(axis=0,inplace=True)\n",
    "df.head(5)"
   ]
  },
  {
   "cell_type": "code",
   "execution_count": 3,
   "metadata": {},
   "outputs": [],
   "source": [
    "import re,string\n",
    "exclude=set(string.punctuation)\n",
    "def clear_Sentence(x):\n",
    "    x=x.lower();\n",
    "    x=re.sub(\"'\",\"\",x);\n",
    "    x=x.strip()\n",
    "    pat=r'[0-9]'\n",
    "    x=re.sub(pat,'',x)\n",
    "    x=re.sub(\" +\",\" \",x);\n",
    "    x=re.sub(\"[२३०८१५७९४६]\", \"\", x)\n",
    "    temp=[txt for txt in x if txt not in exclude]\n",
    "    x=''.join(temp);  \n",
    "    return x;"
   ]
  },
  {
   "cell_type": "code",
   "execution_count": 4,
   "metadata": {},
   "outputs": [
    {
     "data": {
      "text/html": [
       "<div>\n",
       "<style scoped>\n",
       "    .dataframe tbody tr th:only-of-type {\n",
       "        vertical-align: middle;\n",
       "    }\n",
       "\n",
       "    .dataframe tbody tr th {\n",
       "        vertical-align: top;\n",
       "    }\n",
       "\n",
       "    .dataframe thead th {\n",
       "        text-align: right;\n",
       "    }\n",
       "</style>\n",
       "<table border=\"1\" class=\"dataframe\">\n",
       "  <thead>\n",
       "    <tr style=\"text-align: right;\">\n",
       "      <th></th>\n",
       "      <th>index</th>\n",
       "      <th>english_sentence</th>\n",
       "      <th>hindi_sentence</th>\n",
       "      <th>englen</th>\n",
       "      <th>hinlen</th>\n",
       "    </tr>\n",
       "  </thead>\n",
       "  <tbody>\n",
       "    <tr>\n",
       "      <th>0</th>\n",
       "      <td>2</td>\n",
       "      <td>this percentage is even greater than the perce...</td>\n",
       "      <td>यह प्रतिशत भारत में हिन्दुओं प्रतिशत से अधिक है।</td>\n",
       "      <td>10</td>\n",
       "      <td>9</td>\n",
       "    </tr>\n",
       "    <tr>\n",
       "      <th>1</th>\n",
       "      <td>4</td>\n",
       "      <td>the ending portion of these vedas is called up...</td>\n",
       "      <td>इन्हीं वेदों का अंतिम भाग उपनिषद कहलाता है।</td>\n",
       "      <td>9</td>\n",
       "      <td>8</td>\n",
       "    </tr>\n",
       "    <tr>\n",
       "      <th>2</th>\n",
       "      <td>6</td>\n",
       "      <td>in this lies the circumstances of people befor...</td>\n",
       "      <td>इसमें तुमसे पूर्व गुज़रे हुए लोगों के हालात हैं।</td>\n",
       "      <td>9</td>\n",
       "      <td>9</td>\n",
       "    </tr>\n",
       "    <tr>\n",
       "      <th>3</th>\n",
       "      <td>11</td>\n",
       "      <td>category religious text</td>\n",
       "      <td>श्रेणीधर्मग्रन्थ</td>\n",
       "      <td>3</td>\n",
       "      <td>1</td>\n",
       "    </tr>\n",
       "    <tr>\n",
       "      <th>4</th>\n",
       "      <td>12</td>\n",
       "      <td>this period summarily is pepped up with devotion</td>\n",
       "      <td>यह काल समग्रतः भक्ति भावना से ओतप्रोत काल है।</td>\n",
       "      <td>8</td>\n",
       "      <td>9</td>\n",
       "    </tr>\n",
       "    <tr>\n",
       "      <th>5</th>\n",
       "      <td>13</td>\n",
       "      <td>so there is some sort of justice</td>\n",
       "      <td>तो वहाँ न्याय है</td>\n",
       "      <td>7</td>\n",
       "      <td>4</td>\n",
       "    </tr>\n",
       "    <tr>\n",
       "      <th>6</th>\n",
       "      <td>20</td>\n",
       "      <td>of these lahadi is a popular one</td>\n",
       "      <td>लाडड़ी लोकप्रिय स्त्री नृत्य है</td>\n",
       "      <td>8</td>\n",
       "      <td>6</td>\n",
       "    </tr>\n",
       "    <tr>\n",
       "      <th>7</th>\n",
       "      <td>23</td>\n",
       "      <td>this changed slowly</td>\n",
       "      <td>धीरे धीरे ये सब बदला</td>\n",
       "      <td>3</td>\n",
       "      <td>5</td>\n",
       "    </tr>\n",
       "    <tr>\n",
       "      <th>8</th>\n",
       "      <td>26</td>\n",
       "      <td>were being produced</td>\n",
       "      <td>उत्पन्न नहीं कि जाती थी</td>\n",
       "      <td>3</td>\n",
       "      <td>5</td>\n",
       "    </tr>\n",
       "    <tr>\n",
       "      <th>9</th>\n",
       "      <td>30</td>\n",
       "      <td>and you can see this led is going to glow</td>\n",
       "      <td>और जैसा आप देख रहे है ये एलईडी जल उठेगी।</td>\n",
       "      <td>10</td>\n",
       "      <td>10</td>\n",
       "    </tr>\n",
       "  </tbody>\n",
       "</table>\n",
       "</div>"
      ],
      "text/plain": [
       "   index                                   english_sentence  \\\n",
       "0      2  this percentage is even greater than the perce...   \n",
       "1      4  the ending portion of these vedas is called up...   \n",
       "2      6  in this lies the circumstances of people befor...   \n",
       "3     11                            category religious text   \n",
       "4     12   this period summarily is pepped up with devotion   \n",
       "5     13                   so there is some sort of justice   \n",
       "6     20                  of these lahadi is a popular one    \n",
       "7     23                                this changed slowly   \n",
       "8     26                                were being produced   \n",
       "9     30          and you can see this led is going to glow   \n",
       "\n",
       "                                     hindi_sentence  englen  hinlen  \n",
       "0  यह प्रतिशत भारत में हिन्दुओं प्रतिशत से अधिक है।      10       9  \n",
       "1       इन्हीं वेदों का अंतिम भाग उपनिषद कहलाता है।       9       8  \n",
       "2  इसमें तुमसे पूर्व गुज़रे हुए लोगों के हालात हैं।       9       9  \n",
       "3                                  श्रेणीधर्मग्रन्थ       3       1  \n",
       "4     यह काल समग्रतः भक्ति भावना से ओतप्रोत काल है।       8       9  \n",
       "5                                  तो वहाँ न्याय है       7       4  \n",
       "6                  लाडड़ी लोकप्रिय स्त्री नृत्य है        8       6  \n",
       "7                              धीरे धीरे ये सब बदला       3       5  \n",
       "8                           उत्पन्न नहीं कि जाती थी       3       5  \n",
       "9          और जैसा आप देख रहे है ये एलईडी जल उठेगी।      10      10  "
      ]
     },
     "execution_count": 4,
     "metadata": {},
     "output_type": "execute_result"
    }
   ],
   "source": [
    "df['english_sentence']=df['english_sentence'].apply(lambda x: clear_Sentence(x))\n",
    "df['hindi_sentence']=df['hindi_sentence'].apply(lambda x: clear_Sentence(x))\n",
    "df['englen']=df['english_sentence'].apply(lambda x: len(x.split(\" \")))\n",
    "df['hinlen']=df['hindi_sentence'].apply(lambda x: len(x.split(\" \")))\n",
    "df=df[df['hinlen']<=10]\n",
    "df=df[df['englen']<=10]\n",
    "#df.drop('index',axis=1,inplace=True)\n",
    "df.reset_index(inplace=True)\n",
    "df.head(10)"
   ]
  },
  {
   "cell_type": "code",
   "execution_count": 5,
   "metadata": {},
   "outputs": [
    {
     "data": {
      "text/plain": [
       "'the ending portion of these vedas is called upanishad'"
      ]
     },
     "execution_count": 5,
     "metadata": {},
     "output_type": "execute_result"
    }
   ],
   "source": [
    "df['english_sentence'][1]"
   ]
  },
  {
   "cell_type": "code",
   "execution_count": 6,
   "metadata": {},
   "outputs": [],
   "source": [
    "english=[]\n",
    "hindi=[]\n",
    "for i in range(0,750):\n",
    "    english.append(df['english_sentence'][i])\n",
    "    hindi.append('<sos> '+df['hindi_sentence'][i]+' <eos>')"
   ]
  },
  {
   "cell_type": "code",
   "execution_count": 7,
   "metadata": {},
   "outputs": [
    {
     "data": {
      "text/plain": [
       "(1669, 1847)"
      ]
     },
     "execution_count": 7,
     "metadata": {},
     "output_type": "execute_result"
    }
   ],
   "source": [
    "englishwords=set()\n",
    "hindiwords=set()\n",
    "for txt in english:\n",
    "    txt=txt.split(\" \")\n",
    "    for word in txt:\n",
    "        if word not in englishwords:\n",
    "            englishwords.add(word)\n",
    "hindiwords.add('<sos>')\n",
    "hindiwords.add('<eos>')\n",
    "for txt in hindi:\n",
    "    txt=txt.split(\" \")\n",
    "    for word in txt:\n",
    "        if word not in hindiwords:\n",
    "            hindiwords.add(word)  \n",
    "englishwords=sorted(list(englishwords))\n",
    "hindiwords=sorted(list(hindiwords))\n",
    "\n",
    "len(englishwords),len(hindiwords)            "
   ]
  },
  {
   "cell_type": "code",
   "execution_count": 8,
   "metadata": {},
   "outputs": [
    {
     "data": {
      "text/plain": [
       "'<sos> यह प्रतिशत भारत में हिन्दुओं प्रतिशत से अधिक है। <eos>'"
      ]
     },
     "execution_count": 8,
     "metadata": {},
     "output_type": "execute_result"
    }
   ],
   "source": [
    "hindi[0]"
   ]
  },
  {
   "cell_type": "code",
   "execution_count": 9,
   "metadata": {},
   "outputs": [
    {
     "name": "stdout",
     "output_type": "stream",
     "text": [
      "10 12\n"
     ]
    },
    {
     "data": {
      "text/plain": [
       "int"
      ]
     },
     "execution_count": 9,
     "metadata": {},
     "output_type": "execute_result"
    }
   ],
   "source": [
    "maxenglength=max([len(str(txt).split(\" \")) for txt in english])\n",
    "maxhinlength=max([len(str(txt).split(\" \")) for txt in hindi])\n",
    "print(maxenglength,maxhinlength)\n",
    "type(maxenglength)"
   ]
  },
  {
   "cell_type": "code",
   "execution_count": 10,
   "metadata": {},
   "outputs": [
    {
     "data": {
      "text/plain": [
       "\"\\nvoc_size=4000\\nonehotrepresent=[one_hot(str(txt),voc_size) for txt in english]\\nonehotrepresent[0]\\ntotal_length=2300\\npadrepresentation=pad_sequences(onehotrepresent,padding='post',maxlen=total_length)\\npadrepresentation[0]\\n\\n\""
      ]
     },
     "execution_count": 10,
     "metadata": {},
     "output_type": "execute_result"
    }
   ],
   "source": [
    "\"\"\"\n",
    "voc_size=4000\n",
    "onehotrepresent=[one_hot(str(txt),voc_size) for txt in english]\n",
    "onehotrepresent[0]\n",
    "total_length=2300\n",
    "padrepresentation=pad_sequences(onehotrepresent,padding='post',maxlen=total_length)\n",
    "padrepresentation[0]\n",
    "\n",
    "\"\"\""
   ]
  },
  {
   "cell_type": "code",
   "execution_count": 30,
   "metadata": {},
   "outputs": [],
   "source": [
    "encoder_dict=dict([(word,i) for i,word in enumerate(englishwords)])\n",
    "decoder_dict=dict([(word,i) for i,word in enumerate(hindiwords)])\n",
    "reverse_input_dict=dict((i,word) for word,i in encoder_dict.items())\n",
    "reverse_target_dict=dict((i,word) for word,i in decoder_dict.items())\n"
   ]
  },
  {
   "cell_type": "code",
   "execution_count": 12,
   "metadata": {},
   "outputs": [],
   "source": [
    "encoder_input=np.zeros((750,maxenglength,len(englishwords)),dtype='float32')\n",
    "decoder_input=np.zeros((750,maxhinlength,len(hindiwords)),dtype='float32')\n",
    "decoder_target=np.zeros((750,maxhinlength,len(hindiwords)),dtype='float32')"
   ]
  },
  {
   "cell_type": "code",
   "execution_count": 13,
   "metadata": {},
   "outputs": [],
   "source": [
    "for i,(engtext,hintext) in enumerate(zip(english,hindi)):\n",
    "    if(i>=750):\n",
    "        break;\n",
    "    for t,txt in enumerate(engtext.split()):\n",
    "        encoder_input[i,t,encoder_dict[txt]]=1;   \n",
    "    for t,txt in enumerate(hintext.split()):\n",
    "        decoder_input[i,t,decoder_dict[txt]]=1;\n",
    "        if(t>0):\n",
    "            decoder_target[i,t-1,decoder_dict[txt]]=1;\n",
    "        "
   ]
  },
  {
   "cell_type": "code",
   "execution_count": 14,
   "metadata": {},
   "outputs": [
    {
     "data": {
      "text/plain": [
       "((750, 10, 1669), (750, 12, 1847), (750, 12, 1847))"
      ]
     },
     "execution_count": 14,
     "metadata": {},
     "output_type": "execute_result"
    }
   ],
   "source": [
    "encoder_input.shape,decoder_input.shape,decoder_target.shape"
   ]
  },
  {
   "cell_type": "code",
   "execution_count": null,
   "metadata": {},
   "outputs": [],
   "source": []
  },
  {
   "cell_type": "code",
   "execution_count": 15,
   "metadata": {},
   "outputs": [],
   "source": [
    "batch=128\n",
    "epoch=100\n",
    "features=256"
   ]
  },
  {
   "cell_type": "code",
   "execution_count": 16,
   "metadata": {},
   "outputs": [],
   "source": [
    "#encoder \n",
    "from tensorflow.keras.layers import Input\n",
    "from tensorflow.keras.models import Sequential,Model\n",
    "input_encoder=Input(shape=(None,len(englishwords)))\n",
    "lstmlayer=LSTM(features,return_state=True)\n",
    "output,hidden_s,cell_s=lstmlayer(input_encoder)\n",
    "encoder_states=[hidden_s,cell_s]"
   ]
  },
  {
   "cell_type": "code",
   "execution_count": 17,
   "metadata": {},
   "outputs": [],
   "source": [
    "#decoder\n",
    "input_decoder=Input(shape=(None,len(hindiwords)))\n",
    "lstmdecoderlayer=LSTM(features,return_sequences=True,return_state=True)\n",
    "output,_,_=lstmdecoderlayer(input_decoder,initial_state=encoder_states)\n",
    "denselayer=Dense(len(hindiwords),activation='softmax')\n",
    "output=denselayer(output)"
   ]
  },
  {
   "cell_type": "code",
   "execution_count": 18,
   "metadata": {},
   "outputs": [
    {
     "name": "stdout",
     "output_type": "stream",
     "text": [
      "Model: \"model\"\n",
      "__________________________________________________________________________________________________\n",
      "Layer (type)                    Output Shape         Param #     Connected to                     \n",
      "==================================================================================================\n",
      "input_1 (InputLayer)            [(None, None, 1669)] 0                                            \n",
      "__________________________________________________________________________________________________\n",
      "input_2 (InputLayer)            [(None, None, 1847)] 0                                            \n",
      "__________________________________________________________________________________________________\n",
      "lstm (LSTM)                     [(None, 256), (None, 1972224     input_1[0][0]                    \n",
      "__________________________________________________________________________________________________\n",
      "lstm_1 (LSTM)                   [(None, None, 256),  2154496     input_2[0][0]                    \n",
      "                                                                 lstm[0][1]                       \n",
      "                                                                 lstm[0][2]                       \n",
      "__________________________________________________________________________________________________\n",
      "dense (Dense)                   (None, None, 1847)   474679      lstm_1[0][0]                     \n",
      "==================================================================================================\n",
      "Total params: 4,601,399\n",
      "Trainable params: 4,601,399\n",
      "Non-trainable params: 0\n",
      "__________________________________________________________________________________________________\n"
     ]
    }
   ],
   "source": [
    "model=Model([input_encoder,input_decoder],output)\n",
    "model.compile(optimizer='adam',loss='categorical_crossentropy',metrics=['accuracy'])\n",
    "model.summary()"
   ]
  },
  {
   "cell_type": "code",
   "execution_count": 19,
   "metadata": {},
   "outputs": [
    {
     "name": "stdout",
     "output_type": "stream",
     "text": [
      "Epoch 1/100\n",
      "5/5 [==============================] - 10s 796ms/step - loss: 4.2488 - accuracy: 0.0278 - val_loss: 4.0120 - val_accuracy: 0.0833\n",
      "Epoch 2/100\n",
      "5/5 [==============================] - 2s 376ms/step - loss: 4.2043 - accuracy: 0.0833 - val_loss: 3.9320 - val_accuracy: 0.0833\n",
      "Epoch 3/100\n",
      "5/5 [==============================] - 2s 373ms/step - loss: 3.9749 - accuracy: 0.0833 - val_loss: 3.4090 - val_accuracy: 0.0833\n",
      "Epoch 4/100\n",
      "5/5 [==============================] - 2s 375ms/step - loss: 3.4506 - accuracy: 0.0833 - val_loss: 3.3514 - val_accuracy: 0.0833\n",
      "Epoch 5/100\n",
      "5/5 [==============================] - 2s 374ms/step - loss: 3.3403 - accuracy: 0.0835 - val_loss: 3.4194 - val_accuracy: 0.0904\n",
      "Epoch 6/100\n",
      "5/5 [==============================] - 2s 375ms/step - loss: 3.3499 - accuracy: 0.0896 - val_loss: 3.4726 - val_accuracy: 0.0833\n",
      "Epoch 7/100\n",
      "5/5 [==============================] - 2s 374ms/step - loss: 3.3233 - accuracy: 0.0833 - val_loss: 3.5354 - val_accuracy: 0.0833\n",
      "Epoch 8/100\n",
      "5/5 [==============================] - 2s 372ms/step - loss: 3.2893 - accuracy: 0.0839 - val_loss: 3.5764 - val_accuracy: 0.0904\n",
      "Epoch 9/100\n",
      "5/5 [==============================] - 2s 375ms/step - loss: 3.2917 - accuracy: 0.0889 - val_loss: 3.6159 - val_accuracy: 0.0904\n",
      "Epoch 10/100\n",
      "5/5 [==============================] - 2s 377ms/step - loss: 3.2852 - accuracy: 0.0898 - val_loss: 3.6398 - val_accuracy: 0.0904\n",
      "Epoch 11/100\n",
      "5/5 [==============================] - 2s 376ms/step - loss: 3.2489 - accuracy: 0.0890 - val_loss: 3.6495 - val_accuracy: 0.0904\n",
      "Epoch 12/100\n",
      "5/5 [==============================] - 2s 375ms/step - loss: 3.2526 - accuracy: 0.0891 - val_loss: 3.6437 - val_accuracy: 0.0904\n",
      "Epoch 13/100\n",
      "5/5 [==============================] - 2s 374ms/step - loss: 3.2283 - accuracy: 0.0896 - val_loss: 3.6248 - val_accuracy: 0.0904\n",
      "Epoch 14/100\n",
      "5/5 [==============================] - 2s 375ms/step - loss: 3.2332 - accuracy: 0.0884 - val_loss: 3.6053 - val_accuracy: 0.0904\n",
      "Epoch 15/100\n",
      "5/5 [==============================] - 2s 375ms/step - loss: 3.2383 - accuracy: 0.0895 - val_loss: 3.6072 - val_accuracy: 0.0896\n",
      "Epoch 16/100\n",
      "5/5 [==============================] - 2s 374ms/step - loss: 3.2126 - accuracy: 0.0900 - val_loss: 3.6164 - val_accuracy: 0.0904\n",
      "Epoch 17/100\n",
      "5/5 [==============================] - 2s 377ms/step - loss: 3.2429 - accuracy: 0.0919 - val_loss: 3.6259 - val_accuracy: 0.0904\n",
      "Epoch 18/100\n",
      "5/5 [==============================] - 2s 378ms/step - loss: 3.2046 - accuracy: 0.0896 - val_loss: 3.6406 - val_accuracy: 0.0904\n",
      "Epoch 19/100\n",
      "5/5 [==============================] - 2s 375ms/step - loss: 3.1993 - accuracy: 0.0905 - val_loss: 3.6490 - val_accuracy: 0.0900\n",
      "Epoch 20/100\n",
      "5/5 [==============================] - 2s 379ms/step - loss: 3.2049 - accuracy: 0.0909 - val_loss: 3.6574 - val_accuracy: 0.0900\n",
      "Epoch 21/100\n",
      "5/5 [==============================] - 2s 376ms/step - loss: 3.1545 - accuracy: 0.0904 - val_loss: 3.6668 - val_accuracy: 0.0900\n",
      "Epoch 22/100\n",
      "5/5 [==============================] - 2s 384ms/step - loss: 3.2330 - accuracy: 0.0911 - val_loss: 3.6787 - val_accuracy: 0.0881\n",
      "Epoch 23/100\n",
      "5/5 [==============================] - 2s 411ms/step - loss: 3.1681 - accuracy: 0.0910 - val_loss: 3.6809 - val_accuracy: 0.0889\n",
      "Epoch 24/100\n",
      "5/5 [==============================] - 2s 397ms/step - loss: 3.1418 - accuracy: 0.0901 - val_loss: 3.6872 - val_accuracy: 0.0881\n",
      "Epoch 25/100\n",
      "5/5 [==============================] - 2s 410ms/step - loss: 3.2054 - accuracy: 0.0906 - val_loss: 3.6878 - val_accuracy: 0.0896\n",
      "Epoch 26/100\n",
      "5/5 [==============================] - 2s 401ms/step - loss: 3.1521 - accuracy: 0.0909 - val_loss: 3.6978 - val_accuracy: 0.0904\n",
      "Epoch 27/100\n",
      "5/5 [==============================] - 2s 382ms/step - loss: 3.1220 - accuracy: 0.0930 - val_loss: 3.7054 - val_accuracy: 0.0881\n",
      "Epoch 28/100\n",
      "5/5 [==============================] - 2s 408ms/step - loss: 3.1894 - accuracy: 0.0919 - val_loss: 3.7038 - val_accuracy: 0.0904\n",
      "Epoch 29/100\n",
      "5/5 [==============================] - 2s 453ms/step - loss: 3.1411 - accuracy: 0.0916 - val_loss: 3.7071 - val_accuracy: 0.0856\n",
      "Epoch 30/100\n",
      "5/5 [==============================] - 2s 386ms/step - loss: 3.1204 - accuracy: 0.0926 - val_loss: 3.7029 - val_accuracy: 0.0896\n",
      "Epoch 31/100\n",
      "5/5 [==============================] - 2s 387ms/step - loss: 3.1668 - accuracy: 0.0932 - val_loss: 3.7201 - val_accuracy: 0.0859\n",
      "Epoch 32/100\n",
      "5/5 [==============================] - 2s 379ms/step - loss: 3.1419 - accuracy: 0.0939 - val_loss: 3.7212 - val_accuracy: 0.0867\n",
      "Epoch 33/100\n",
      "5/5 [==============================] - 2s 378ms/step - loss: 3.0973 - accuracy: 0.0940 - val_loss: 3.7216 - val_accuracy: 0.0863\n",
      "Epoch 34/100\n",
      "5/5 [==============================] - 2s 380ms/step - loss: 3.0852 - accuracy: 0.0936 - val_loss: 3.7314 - val_accuracy: 0.0859\n",
      "Epoch 35/100\n",
      "5/5 [==============================] - 2s 380ms/step - loss: 3.1445 - accuracy: 0.0935 - val_loss: 3.7319 - val_accuracy: 0.0881\n",
      "Epoch 36/100\n",
      "5/5 [==============================] - 2s 425ms/step - loss: 3.0709 - accuracy: 0.0930 - val_loss: 3.7421 - val_accuracy: 0.0859\n",
      "Epoch 37/100\n",
      "5/5 [==============================] - 2s 390ms/step - loss: 3.0933 - accuracy: 0.0936 - val_loss: 3.7390 - val_accuracy: 0.0863\n",
      "Epoch 38/100\n",
      "5/5 [==============================] - 2s 383ms/step - loss: 3.1289 - accuracy: 0.0947 - val_loss: 3.7475 - val_accuracy: 0.0859\n",
      "Epoch 39/100\n",
      "5/5 [==============================] - 2s 397ms/step - loss: 3.1108 - accuracy: 0.0941 - val_loss: 3.7495 - val_accuracy: 0.0867\n",
      "Epoch 40/100\n",
      "5/5 [==============================] - 2s 384ms/step - loss: 3.0439 - accuracy: 0.0946 - val_loss: 3.7548 - val_accuracy: 0.0867\n",
      "Epoch 41/100\n",
      "5/5 [==============================] - 2s 403ms/step - loss: 3.0965 - accuracy: 0.0942 - val_loss: 3.7642 - val_accuracy: 0.0867\n",
      "Epoch 42/100\n",
      "5/5 [==============================] - 2s 389ms/step - loss: 3.1027 - accuracy: 0.0955 - val_loss: 3.7541 - val_accuracy: 0.0878\n",
      "Epoch 43/100\n",
      "5/5 [==============================] - 2s 394ms/step - loss: 3.0529 - accuracy: 0.0948 - val_loss: 3.7632 - val_accuracy: 0.0881\n",
      "Epoch 44/100\n",
      "5/5 [==============================] - 2s 382ms/step - loss: 3.0384 - accuracy: 0.0953 - val_loss: 3.7782 - val_accuracy: 0.0870\n",
      "Epoch 45/100\n",
      "5/5 [==============================] - 2s 415ms/step - loss: 3.0983 - accuracy: 0.0945 - val_loss: 3.7734 - val_accuracy: 0.0870\n",
      "Epoch 46/100\n",
      "5/5 [==============================] - 2s 416ms/step - loss: 3.0685 - accuracy: 0.0962 - val_loss: 3.7619 - val_accuracy: 0.0922\n",
      "Epoch 47/100\n",
      "5/5 [==============================] - 2s 384ms/step - loss: 3.0479 - accuracy: 0.0955 - val_loss: 3.7716 - val_accuracy: 0.0889\n",
      "Epoch 48/100\n",
      "5/5 [==============================] - 2s 376ms/step - loss: 3.0595 - accuracy: 0.0971 - val_loss: 3.7732 - val_accuracy: 0.0911\n",
      "Epoch 49/100\n",
      "5/5 [==============================] - 2s 375ms/step - loss: 3.0197 - accuracy: 0.0960 - val_loss: 3.7668 - val_accuracy: 0.0944\n",
      "Epoch 50/100\n",
      "5/5 [==============================] - 2s 372ms/step - loss: 3.0287 - accuracy: 0.0975 - val_loss: 3.7680 - val_accuracy: 0.0926\n",
      "Epoch 51/100\n",
      "5/5 [==============================] - 2s 375ms/step - loss: 3.0193 - accuracy: 0.0978 - val_loss: 3.7840 - val_accuracy: 0.0915\n",
      "Epoch 52/100\n",
      "5/5 [==============================] - 2s 369ms/step - loss: 3.0107 - accuracy: 0.0974 - val_loss: 3.7861 - val_accuracy: 0.0911\n",
      "Epoch 53/100\n",
      "5/5 [==============================] - 2s 377ms/step - loss: 3.0294 - accuracy: 0.0977 - val_loss: 3.7868 - val_accuracy: 0.0911\n",
      "Epoch 54/100\n",
      "5/5 [==============================] - 2s 379ms/step - loss: 3.0232 - accuracy: 0.0990 - val_loss: 3.7949 - val_accuracy: 0.0904\n",
      "Epoch 55/100\n",
      "5/5 [==============================] - 2s 372ms/step - loss: 3.0279 - accuracy: 0.0987 - val_loss: 3.7897 - val_accuracy: 0.0911\n",
      "Epoch 56/100\n",
      "5/5 [==============================] - 2s 386ms/step - loss: 3.0406 - accuracy: 0.0971 - val_loss: 3.7836 - val_accuracy: 0.0915\n",
      "Epoch 57/100\n",
      "5/5 [==============================] - 2s 400ms/step - loss: 3.0066 - accuracy: 0.0978 - val_loss: 3.8000 - val_accuracy: 0.0907\n",
      "Epoch 58/100\n",
      "5/5 [==============================] - 2s 391ms/step - loss: 3.0336 - accuracy: 0.0995 - val_loss: 3.7975 - val_accuracy: 0.0915\n"
     ]
    },
    {
     "name": "stdout",
     "output_type": "stream",
     "text": [
      "Epoch 59/100\n",
      "5/5 [==============================] - 2s 391ms/step - loss: 2.9759 - accuracy: 0.0989 - val_loss: 3.8081 - val_accuracy: 0.0922\n",
      "Epoch 60/100\n",
      "5/5 [==============================] - 2s 385ms/step - loss: 3.0248 - accuracy: 0.1011 - val_loss: 3.8068 - val_accuracy: 0.0904\n",
      "Epoch 61/100\n",
      "5/5 [==============================] - 2s 390ms/step - loss: 2.9814 - accuracy: 0.0995 - val_loss: 3.8052 - val_accuracy: 0.0889\n",
      "Epoch 62/100\n",
      "5/5 [==============================] - 2s 398ms/step - loss: 3.0517 - accuracy: 0.1008 - val_loss: 3.8036 - val_accuracy: 0.0919\n",
      "Epoch 63/100\n",
      "5/5 [==============================] - 2s 393ms/step - loss: 2.9286 - accuracy: 0.1001 - val_loss: 3.8172 - val_accuracy: 0.0896\n",
      "Epoch 64/100\n",
      "5/5 [==============================] - 2s 409ms/step - loss: 2.9856 - accuracy: 0.1011 - val_loss: 3.8126 - val_accuracy: 0.0907\n",
      "Epoch 65/100\n",
      "5/5 [==============================] - 2s 392ms/step - loss: 2.9374 - accuracy: 0.0993 - val_loss: 3.8111 - val_accuracy: 0.0926\n",
      "Epoch 66/100\n",
      "5/5 [==============================] - 2s 377ms/step - loss: 2.9516 - accuracy: 0.0995 - val_loss: 3.8100 - val_accuracy: 0.0922\n",
      "Epoch 67/100\n",
      "5/5 [==============================] - 2s 379ms/step - loss: 3.0038 - accuracy: 0.0994 - val_loss: 3.7967 - val_accuracy: 0.0922\n",
      "Epoch 68/100\n",
      "5/5 [==============================] - 2s 384ms/step - loss: 2.9916 - accuracy: 0.0992 - val_loss: 3.8052 - val_accuracy: 0.0907\n",
      "Epoch 69/100\n",
      "5/5 [==============================] - 2s 387ms/step - loss: 2.9585 - accuracy: 0.0990 - val_loss: 3.8102 - val_accuracy: 0.0930\n",
      "Epoch 70/100\n",
      "5/5 [==============================] - 2s 382ms/step - loss: 2.9565 - accuracy: 0.0998 - val_loss: 3.8161 - val_accuracy: 0.0915\n",
      "Epoch 71/100\n",
      "5/5 [==============================] - 2s 377ms/step - loss: 2.9752 - accuracy: 0.0984 - val_loss: 3.8329 - val_accuracy: 0.0907\n",
      "Epoch 72/100\n",
      "5/5 [==============================] - 2s 379ms/step - loss: 2.9490 - accuracy: 0.1007 - val_loss: 3.8108 - val_accuracy: 0.0904\n",
      "Epoch 73/100\n",
      "5/5 [==============================] - 2s 383ms/step - loss: 2.8635 - accuracy: 0.1038 - val_loss: 3.8260 - val_accuracy: 0.0911\n",
      "Epoch 74/100\n",
      "5/5 [==============================] - 2s 378ms/step - loss: 2.8666 - accuracy: 0.1014 - val_loss: 3.8256 - val_accuracy: 0.0911\n",
      "Epoch 75/100\n",
      "5/5 [==============================] - 2s 380ms/step - loss: 2.9641 - accuracy: 0.1025 - val_loss: 3.8073 - val_accuracy: 0.0922\n",
      "Epoch 76/100\n",
      "5/5 [==============================] - 2s 377ms/step - loss: 2.8871 - accuracy: 0.1008 - val_loss: 3.8234 - val_accuracy: 0.0919\n",
      "Epoch 77/100\n",
      "5/5 [==============================] - 2s 423ms/step - loss: 2.9085 - accuracy: 0.1032 - val_loss: 3.8408 - val_accuracy: 0.0911\n",
      "Epoch 78/100\n",
      "5/5 [==============================] - 2s 376ms/step - loss: 2.8768 - accuracy: 0.1044 - val_loss: 3.8383 - val_accuracy: 0.0919\n",
      "Epoch 79/100\n",
      "5/5 [==============================] - 2s 381ms/step - loss: 2.8811 - accuracy: 0.1058 - val_loss: 3.8541 - val_accuracy: 0.0896\n",
      "Epoch 80/100\n",
      "5/5 [==============================] - 2s 381ms/step - loss: 2.8976 - accuracy: 0.1043 - val_loss: 3.8392 - val_accuracy: 0.0904\n",
      "Epoch 81/100\n",
      "5/5 [==============================] - 2s 379ms/step - loss: 2.9219 - accuracy: 0.1030 - val_loss: 3.8324 - val_accuracy: 0.0922\n",
      "Epoch 82/100\n",
      "5/5 [==============================] - 2s 378ms/step - loss: 2.8548 - accuracy: 0.1031 - val_loss: 3.8161 - val_accuracy: 0.0926\n",
      "Epoch 83/100\n",
      "5/5 [==============================] - 2s 384ms/step - loss: 2.8775 - accuracy: 0.1043 - val_loss: 3.8284 - val_accuracy: 0.0919\n",
      "Epoch 84/100\n",
      "5/5 [==============================] - 2s 380ms/step - loss: 2.9017 - accuracy: 0.1074 - val_loss: 3.8348 - val_accuracy: 0.0922\n",
      "Epoch 85/100\n",
      "5/5 [==============================] - 2s 386ms/step - loss: 2.8699 - accuracy: 0.1060 - val_loss: 3.8335 - val_accuracy: 0.0896\n",
      "Epoch 86/100\n",
      "5/5 [==============================] - 2s 385ms/step - loss: 2.8756 - accuracy: 0.1054 - val_loss: 3.8243 - val_accuracy: 0.0919\n",
      "Epoch 87/100\n",
      "5/5 [==============================] - 2s 384ms/step - loss: 2.8742 - accuracy: 0.1106 - val_loss: 3.8076 - val_accuracy: 0.0926\n",
      "Epoch 88/100\n",
      "5/5 [==============================] - 2s 378ms/step - loss: 2.9041 - accuracy: 0.1093 - val_loss: 3.8085 - val_accuracy: 0.0915\n",
      "Epoch 89/100\n",
      "5/5 [==============================] - 2s 383ms/step - loss: 2.8023 - accuracy: 0.1076 - val_loss: 3.8167 - val_accuracy: 0.0911\n",
      "Epoch 90/100\n",
      "5/5 [==============================] - 2s 382ms/step - loss: 2.8403 - accuracy: 0.1085 - val_loss: 3.8409 - val_accuracy: 0.0904\n",
      "Epoch 91/100\n",
      "5/5 [==============================] - 2s 382ms/step - loss: 2.8114 - accuracy: 0.1091 - val_loss: 3.8465 - val_accuracy: 0.0915\n",
      "Epoch 92/100\n",
      "5/5 [==============================] - 2s 380ms/step - loss: 2.8634 - accuracy: 0.1127 - val_loss: 3.8421 - val_accuracy: 0.0915\n",
      "Epoch 93/100\n",
      "5/5 [==============================] - 2s 380ms/step - loss: 2.7969 - accuracy: 0.1132 - val_loss: 3.8387 - val_accuracy: 0.0922\n",
      "Epoch 94/100\n",
      "5/5 [==============================] - 2s 380ms/step - loss: 2.8126 - accuracy: 0.1117 - val_loss: 3.8388 - val_accuracy: 0.0915\n",
      "Epoch 95/100\n",
      "5/5 [==============================] - 2s 378ms/step - loss: 2.8145 - accuracy: 0.1109 - val_loss: 3.8341 - val_accuracy: 0.0904\n",
      "Epoch 96/100\n",
      "5/5 [==============================] - 2s 381ms/step - loss: 2.8335 - accuracy: 0.1134 - val_loss: 3.8428 - val_accuracy: 0.0915\n",
      "Epoch 97/100\n",
      "5/5 [==============================] - 2s 384ms/step - loss: 2.7639 - accuracy: 0.1157 - val_loss: 3.8447 - val_accuracy: 0.0907\n",
      "Epoch 98/100\n",
      "5/5 [==============================] - 2s 377ms/step - loss: 2.7566 - accuracy: 0.1132 - val_loss: 3.8458 - val_accuracy: 0.0911\n",
      "Epoch 99/100\n",
      "5/5 [==============================] - 2s 377ms/step - loss: 2.7847 - accuracy: 0.1125 - val_loss: 3.8431 - val_accuracy: 0.0907\n",
      "Epoch 100/100\n",
      "5/5 [==============================] - 2s 375ms/step - loss: 2.7443 - accuracy: 0.1102 - val_loss: 3.8491 - val_accuracy: 0.0915\n"
     ]
    },
    {
     "data": {
      "text/plain": [
       "<tensorflow.python.keras.callbacks.History at 0x16187622548>"
      ]
     },
     "execution_count": 19,
     "metadata": {},
     "output_type": "execute_result"
    }
   ],
   "source": [
    "model.fit([encoder_input,decoder_input],decoder_target,batch_size=batch,epochs=epoch,validation_split=0.3)"
   ]
  },
  {
   "cell_type": "code",
   "execution_count": 22,
   "metadata": {},
   "outputs": [],
   "source": [
    "#inference model\n",
    "\n",
    "encoder_model = Model(input_encoder, encoder_states)\n",
    "\n",
    "decoder_state_input_h = Input(shape=(features,))\n",
    "decoder_state_input_c = Input(shape=(features,))\n",
    "decoder_states_inputs = [decoder_state_input_h, decoder_state_input_c]\n",
    "\n",
    "decoder_outputs, state_h, state_c = lstmdecoderlayer(input_decoder, initial_state=decoder_states_inputs)\n",
    "\n",
    "decoder_states = [state_h, state_c]\n",
    "decoder_outputs = denselayer(decoder_outputs)\n",
    "\n",
    "decoder_model = Model([input_decoder] + decoder_states_inputs,[decoder_outputs] + decoder_states)\n"
   ]
  },
  {
   "cell_type": "code",
   "execution_count": 33,
   "metadata": {},
   "outputs": [],
   "source": [
    "def decode_sequence(input_seq):\n",
    "    # Encode the input as state vectors.\n",
    "    states_value = encoder_model.predict(input_seq)\n",
    "\n",
    "    # Generate empty target sequence of length 1.\n",
    "    target_seq = np.zeros((1, 1,len(hindiwords)))\n",
    "    # Populate the first character of target sequence with the start character.\n",
    "    target_seq[0, 0,decoder_dict['<sos>']] = 1.\n",
    "\n",
    "    # Sampling loop for a batch of sequences\n",
    "    # (to simplify, here we assume a batch of size 1).\n",
    "    stop_condition = False\n",
    "    decoded_sentence = ''\n",
    "    while not stop_condition:\n",
    "        output_tokens, h, c = decoder_model.predict(\n",
    "            [target_seq] + states_value)\n",
    "\n",
    "        # Sample a token\n",
    "        sampled_token_index = np.argmax(output_tokens[0, -1, :])\n",
    "        sampled_char = reverse_target_dict[sampled_token_index]\n",
    "        decoded_sentence += sampled_char\n",
    "\n",
    "        # Exit condition: either hit max length\n",
    "        # or find stop character.\n",
    "        if (sampled_char == '<eos>' or\n",
    "           len(decoded_sentence) > maxhinlength):\n",
    "            stop_condition = True\n",
    "\n",
    "        # Update the target sequence (of length 1).\n",
    "        target_seq = np.zeros((1, 1,len(hindiwords)))\n",
    "        target_seq[0, 0, sampled_token_index] = 1.\n",
    "\n",
    "        # Update states\n",
    "        states_value = [h, c]\n",
    "\n",
    "    return decoded_sentence"
   ]
  },
  {
   "cell_type": "code",
   "execution_count": 28,
   "metadata": {},
   "outputs": [],
   "source": [
    "str=\"there is justice\"\n",
    "temp=np.zeros((1,maxenglength,len(englishwords)),dtype='float32')\n",
    "for t,txt in enumerate(str.split()):\n",
    "        temp[0,t,encoder_dict[txt]]=1; \n"
   ]
  },
  {
   "cell_type": "code",
   "execution_count": 35,
   "metadata": {},
   "outputs": [
    {
     "name": "stdout",
     "output_type": "stream",
     "text": [
      "औरऔर<eos>\n"
     ]
    }
   ],
   "source": [
    "decoded_sentence = decode_sequence(temp)\n",
    "print(decoded_sentence)"
   ]
  }
 ],
 "metadata": {
  "kernelspec": {
   "display_name": "Python 3",
   "language": "python",
   "name": "python3"
  },
  "language_info": {
   "codemirror_mode": {
    "name": "ipython",
    "version": 3
   },
   "file_extension": ".py",
   "mimetype": "text/x-python",
   "name": "python",
   "nbconvert_exporter": "python",
   "pygments_lexer": "ipython3",
   "version": "3.7.4"
  }
 },
 "nbformat": 4,
 "nbformat_minor": 2
}
